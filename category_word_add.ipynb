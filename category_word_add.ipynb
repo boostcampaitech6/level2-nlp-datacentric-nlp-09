{
  "nbformat": 4,
  "nbformat_minor": 0,
  "metadata": {
    "colab": {
      "provenance": []
    },
    "kernelspec": {
      "name": "python3",
      "display_name": "Python 3"
    },
    "language_info": {
      "name": "python"
    }
  },
  "cells": [
    {
      "cell_type": "markdown",
      "source": [
        "## label ditection 파일 load"
      ],
      "metadata": {
        "id": "U2xUTEJpqIXz"
      }
    },
    {
      "cell_type": "code",
      "execution_count": 160,
      "metadata": {
        "id": "6uAekzZhZVkB"
      },
      "outputs": [],
      "source": [
        "import pandas as pd\n",
        "df = pd.read_csv('/content/train_error_filtered_by_model.csv',index_col=0)"
      ]
    },
    {
      "cell_type": "code",
      "source": [
        "df"
      ],
      "metadata": {
        "colab": {
          "base_uri": "https://localhost:8080/",
          "height": 580
        },
        "id": "I2Z5sUy9Z_SX",
        "outputId": "851e38cc-2905-436e-b02c-4461580f6dbf"
      },
      "execution_count": 161,
      "outputs": [
        {
          "output_type": "execute_result",
          "data": {
            "text/plain": [
              "                       ID                              text  target  \\\n",
              "0     ynat-v1_train_00000         개포2단지 분양 앞두고 개포지구 재건축 불붙어       1   \n",
              "1     ynat-v1_train_00001         삼성전자 KBIS 2018서 셰프컬렉션 선보여       0   \n",
              "2     ynat-v1_train_00002           LG G6 사면 BO 이어폰이 단돈 5천원       0   \n",
              "3     ynat-v1_train_00003            신간 블록체인혁명 2030·남자의 고독사       3   \n",
              "4     ynat-v1_train_00004    이스라엘 정보당국 팔레스타인인 50명 테러 혐의로 체포       4   \n",
              "...                   ...                               ...     ...   \n",
              "6995  ynat-v1_train_06995    힐만 SK 감독 고통스럽지만 내 상황 솔직히 알려야 해       5   \n",
              "6996  ynat-v1_train_06996    정의장 사드 국회동의 사안 아니라 쳐도 충분히 협의해야       6   \n",
              "6997  ynat-v1_train_06997          정치권 엘시티 수사 돌발변수에 촉각…왜 지금       6   \n",
              "6998  ynat-v1_train_06998   문 대통령 1987 관람…깜짝 방문에 객석 환호·박수종합       6   \n",
              "6999  ynat-v1_train_06999  120년 전 대한제국으로…가을밤 정동에서 시간 여행 떠나다       3   \n",
              "\n",
              "                                                    url                  date  \n",
              "0     https://news.naver.com/main/read.nhn?mode=LS2D...  2016.03.16. 오전 11:37  \n",
              "1     https://news.naver.com/main/read.nhn?mode=LS2D...   2018.01.10. 오전 8:33  \n",
              "2     https://news.naver.com/main/read.nhn?mode=LS2D...  2017.04.30. 오전 10:00  \n",
              "3     https://news.naver.com/main/read.nhn?mode=LS2D...  2019.06.13. 오전 11:49  \n",
              "4     https://news.naver.com/main/read.nhn?mode=LS2D...  2019.12.18. 오후 11:15  \n",
              "...                                                 ...                   ...  \n",
              "6995  https://sports.news.naver.com/news.nhn?oid=001...      2018.10.13 15:46  \n",
              "6996  https://news.naver.com/main/read.nhn?mode=LS2D...   2016.07.17. 오후 6:20  \n",
              "6997  https://news.naver.com/main/read.nhn?mode=LS2D...   2016.11.16. 오후 6:24  \n",
              "6998  https://news.naver.com/main/read.nhn?mode=LS2D...   2018.01.07. 오후 5:23  \n",
              "6999  https://news.naver.com/main/read.nhn?mode=LS2D...   2016.10.28. 오후 8:13  \n",
              "\n",
              "[7000 rows x 5 columns]"
            ],
            "text/html": [
              "\n",
              "  <div id=\"df-eb521789-8196-482a-8dce-ec37f4b3d99e\" class=\"colab-df-container\">\n",
              "    <div>\n",
              "<style scoped>\n",
              "    .dataframe tbody tr th:only-of-type {\n",
              "        vertical-align: middle;\n",
              "    }\n",
              "\n",
              "    .dataframe tbody tr th {\n",
              "        vertical-align: top;\n",
              "    }\n",
              "\n",
              "    .dataframe thead th {\n",
              "        text-align: right;\n",
              "    }\n",
              "</style>\n",
              "<table border=\"1\" class=\"dataframe\">\n",
              "  <thead>\n",
              "    <tr style=\"text-align: right;\">\n",
              "      <th></th>\n",
              "      <th>ID</th>\n",
              "      <th>text</th>\n",
              "      <th>target</th>\n",
              "      <th>url</th>\n",
              "      <th>date</th>\n",
              "    </tr>\n",
              "  </thead>\n",
              "  <tbody>\n",
              "    <tr>\n",
              "      <th>0</th>\n",
              "      <td>ynat-v1_train_00000</td>\n",
              "      <td>개포2단지 분양 앞두고 개포지구 재건축 불붙어</td>\n",
              "      <td>1</td>\n",
              "      <td>https://news.naver.com/main/read.nhn?mode=LS2D...</td>\n",
              "      <td>2016.03.16. 오전 11:37</td>\n",
              "    </tr>\n",
              "    <tr>\n",
              "      <th>1</th>\n",
              "      <td>ynat-v1_train_00001</td>\n",
              "      <td>삼성전자 KBIS 2018서 셰프컬렉션 선보여</td>\n",
              "      <td>0</td>\n",
              "      <td>https://news.naver.com/main/read.nhn?mode=LS2D...</td>\n",
              "      <td>2018.01.10. 오전 8:33</td>\n",
              "    </tr>\n",
              "    <tr>\n",
              "      <th>2</th>\n",
              "      <td>ynat-v1_train_00002</td>\n",
              "      <td>LG G6 사면 BO 이어폰이 단돈 5천원</td>\n",
              "      <td>0</td>\n",
              "      <td>https://news.naver.com/main/read.nhn?mode=LS2D...</td>\n",
              "      <td>2017.04.30. 오전 10:00</td>\n",
              "    </tr>\n",
              "    <tr>\n",
              "      <th>3</th>\n",
              "      <td>ynat-v1_train_00003</td>\n",
              "      <td>신간 블록체인혁명 2030·남자의 고독사</td>\n",
              "      <td>3</td>\n",
              "      <td>https://news.naver.com/main/read.nhn?mode=LS2D...</td>\n",
              "      <td>2019.06.13. 오전 11:49</td>\n",
              "    </tr>\n",
              "    <tr>\n",
              "      <th>4</th>\n",
              "      <td>ynat-v1_train_00004</td>\n",
              "      <td>이스라엘 정보당국 팔레스타인인 50명 테러 혐의로 체포</td>\n",
              "      <td>4</td>\n",
              "      <td>https://news.naver.com/main/read.nhn?mode=LS2D...</td>\n",
              "      <td>2019.12.18. 오후 11:15</td>\n",
              "    </tr>\n",
              "    <tr>\n",
              "      <th>...</th>\n",
              "      <td>...</td>\n",
              "      <td>...</td>\n",
              "      <td>...</td>\n",
              "      <td>...</td>\n",
              "      <td>...</td>\n",
              "    </tr>\n",
              "    <tr>\n",
              "      <th>6995</th>\n",
              "      <td>ynat-v1_train_06995</td>\n",
              "      <td>힐만 SK 감독 고통스럽지만 내 상황 솔직히 알려야 해</td>\n",
              "      <td>5</td>\n",
              "      <td>https://sports.news.naver.com/news.nhn?oid=001...</td>\n",
              "      <td>2018.10.13 15:46</td>\n",
              "    </tr>\n",
              "    <tr>\n",
              "      <th>6996</th>\n",
              "      <td>ynat-v1_train_06996</td>\n",
              "      <td>정의장 사드 국회동의 사안 아니라 쳐도 충분히 협의해야</td>\n",
              "      <td>6</td>\n",
              "      <td>https://news.naver.com/main/read.nhn?mode=LS2D...</td>\n",
              "      <td>2016.07.17. 오후 6:20</td>\n",
              "    </tr>\n",
              "    <tr>\n",
              "      <th>6997</th>\n",
              "      <td>ynat-v1_train_06997</td>\n",
              "      <td>정치권 엘시티 수사 돌발변수에 촉각…왜 지금</td>\n",
              "      <td>6</td>\n",
              "      <td>https://news.naver.com/main/read.nhn?mode=LS2D...</td>\n",
              "      <td>2016.11.16. 오후 6:24</td>\n",
              "    </tr>\n",
              "    <tr>\n",
              "      <th>6998</th>\n",
              "      <td>ynat-v1_train_06998</td>\n",
              "      <td>문 대통령 1987 관람…깜짝 방문에 객석 환호·박수종합</td>\n",
              "      <td>6</td>\n",
              "      <td>https://news.naver.com/main/read.nhn?mode=LS2D...</td>\n",
              "      <td>2018.01.07. 오후 5:23</td>\n",
              "    </tr>\n",
              "    <tr>\n",
              "      <th>6999</th>\n",
              "      <td>ynat-v1_train_06999</td>\n",
              "      <td>120년 전 대한제국으로…가을밤 정동에서 시간 여행 떠나다</td>\n",
              "      <td>3</td>\n",
              "      <td>https://news.naver.com/main/read.nhn?mode=LS2D...</td>\n",
              "      <td>2016.10.28. 오후 8:13</td>\n",
              "    </tr>\n",
              "  </tbody>\n",
              "</table>\n",
              "<p>7000 rows × 5 columns</p>\n",
              "</div>\n",
              "    <div class=\"colab-df-buttons\">\n",
              "\n",
              "  <div class=\"colab-df-container\">\n",
              "    <button class=\"colab-df-convert\" onclick=\"convertToInteractive('df-eb521789-8196-482a-8dce-ec37f4b3d99e')\"\n",
              "            title=\"Convert this dataframe to an interactive table.\"\n",
              "            style=\"display:none;\">\n",
              "\n",
              "  <svg xmlns=\"http://www.w3.org/2000/svg\" height=\"24px\" viewBox=\"0 -960 960 960\">\n",
              "    <path d=\"M120-120v-720h720v720H120Zm60-500h600v-160H180v160Zm220 220h160v-160H400v160Zm0 220h160v-160H400v160ZM180-400h160v-160H180v160Zm440 0h160v-160H620v160ZM180-180h160v-160H180v160Zm440 0h160v-160H620v160Z\"/>\n",
              "  </svg>\n",
              "    </button>\n",
              "\n",
              "  <style>\n",
              "    .colab-df-container {\n",
              "      display:flex;\n",
              "      gap: 12px;\n",
              "    }\n",
              "\n",
              "    .colab-df-convert {\n",
              "      background-color: #E8F0FE;\n",
              "      border: none;\n",
              "      border-radius: 50%;\n",
              "      cursor: pointer;\n",
              "      display: none;\n",
              "      fill: #1967D2;\n",
              "      height: 32px;\n",
              "      padding: 0 0 0 0;\n",
              "      width: 32px;\n",
              "    }\n",
              "\n",
              "    .colab-df-convert:hover {\n",
              "      background-color: #E2EBFA;\n",
              "      box-shadow: 0px 1px 2px rgba(60, 64, 67, 0.3), 0px 1px 3px 1px rgba(60, 64, 67, 0.15);\n",
              "      fill: #174EA6;\n",
              "    }\n",
              "\n",
              "    .colab-df-buttons div {\n",
              "      margin-bottom: 4px;\n",
              "    }\n",
              "\n",
              "    [theme=dark] .colab-df-convert {\n",
              "      background-color: #3B4455;\n",
              "      fill: #D2E3FC;\n",
              "    }\n",
              "\n",
              "    [theme=dark] .colab-df-convert:hover {\n",
              "      background-color: #434B5C;\n",
              "      box-shadow: 0px 1px 3px 1px rgba(0, 0, 0, 0.15);\n",
              "      filter: drop-shadow(0px 1px 2px rgba(0, 0, 0, 0.3));\n",
              "      fill: #FFFFFF;\n",
              "    }\n",
              "  </style>\n",
              "\n",
              "    <script>\n",
              "      const buttonEl =\n",
              "        document.querySelector('#df-eb521789-8196-482a-8dce-ec37f4b3d99e button.colab-df-convert');\n",
              "      buttonEl.style.display =\n",
              "        google.colab.kernel.accessAllowed ? 'block' : 'none';\n",
              "\n",
              "      async function convertToInteractive(key) {\n",
              "        const element = document.querySelector('#df-eb521789-8196-482a-8dce-ec37f4b3d99e');\n",
              "        const dataTable =\n",
              "          await google.colab.kernel.invokeFunction('convertToInteractive',\n",
              "                                                    [key], {});\n",
              "        if (!dataTable) return;\n",
              "\n",
              "        const docLinkHtml = 'Like what you see? Visit the ' +\n",
              "          '<a target=\"_blank\" href=https://colab.research.google.com/notebooks/data_table.ipynb>data table notebook</a>'\n",
              "          + ' to learn more about interactive tables.';\n",
              "        element.innerHTML = '';\n",
              "        dataTable['output_type'] = 'display_data';\n",
              "        await google.colab.output.renderOutput(dataTable, element);\n",
              "        const docLink = document.createElement('div');\n",
              "        docLink.innerHTML = docLinkHtml;\n",
              "        element.appendChild(docLink);\n",
              "      }\n",
              "    </script>\n",
              "  </div>\n",
              "\n",
              "\n",
              "<div id=\"df-5d0e268e-75da-4874-a0aa-8088289ad4f4\">\n",
              "  <button class=\"colab-df-quickchart\" onclick=\"quickchart('df-5d0e268e-75da-4874-a0aa-8088289ad4f4')\"\n",
              "            title=\"Suggest charts\"\n",
              "            style=\"display:none;\">\n",
              "\n",
              "<svg xmlns=\"http://www.w3.org/2000/svg\" height=\"24px\"viewBox=\"0 0 24 24\"\n",
              "     width=\"24px\">\n",
              "    <g>\n",
              "        <path d=\"M19 3H5c-1.1 0-2 .9-2 2v14c0 1.1.9 2 2 2h14c1.1 0 2-.9 2-2V5c0-1.1-.9-2-2-2zM9 17H7v-7h2v7zm4 0h-2V7h2v10zm4 0h-2v-4h2v4z\"/>\n",
              "    </g>\n",
              "</svg>\n",
              "  </button>\n",
              "\n",
              "<style>\n",
              "  .colab-df-quickchart {\n",
              "      --bg-color: #E8F0FE;\n",
              "      --fill-color: #1967D2;\n",
              "      --hover-bg-color: #E2EBFA;\n",
              "      --hover-fill-color: #174EA6;\n",
              "      --disabled-fill-color: #AAA;\n",
              "      --disabled-bg-color: #DDD;\n",
              "  }\n",
              "\n",
              "  [theme=dark] .colab-df-quickchart {\n",
              "      --bg-color: #3B4455;\n",
              "      --fill-color: #D2E3FC;\n",
              "      --hover-bg-color: #434B5C;\n",
              "      --hover-fill-color: #FFFFFF;\n",
              "      --disabled-bg-color: #3B4455;\n",
              "      --disabled-fill-color: #666;\n",
              "  }\n",
              "\n",
              "  .colab-df-quickchart {\n",
              "    background-color: var(--bg-color);\n",
              "    border: none;\n",
              "    border-radius: 50%;\n",
              "    cursor: pointer;\n",
              "    display: none;\n",
              "    fill: var(--fill-color);\n",
              "    height: 32px;\n",
              "    padding: 0;\n",
              "    width: 32px;\n",
              "  }\n",
              "\n",
              "  .colab-df-quickchart:hover {\n",
              "    background-color: var(--hover-bg-color);\n",
              "    box-shadow: 0 1px 2px rgba(60, 64, 67, 0.3), 0 1px 3px 1px rgba(60, 64, 67, 0.15);\n",
              "    fill: var(--button-hover-fill-color);\n",
              "  }\n",
              "\n",
              "  .colab-df-quickchart-complete:disabled,\n",
              "  .colab-df-quickchart-complete:disabled:hover {\n",
              "    background-color: var(--disabled-bg-color);\n",
              "    fill: var(--disabled-fill-color);\n",
              "    box-shadow: none;\n",
              "  }\n",
              "\n",
              "  .colab-df-spinner {\n",
              "    border: 2px solid var(--fill-color);\n",
              "    border-color: transparent;\n",
              "    border-bottom-color: var(--fill-color);\n",
              "    animation:\n",
              "      spin 1s steps(1) infinite;\n",
              "  }\n",
              "\n",
              "  @keyframes spin {\n",
              "    0% {\n",
              "      border-color: transparent;\n",
              "      border-bottom-color: var(--fill-color);\n",
              "      border-left-color: var(--fill-color);\n",
              "    }\n",
              "    20% {\n",
              "      border-color: transparent;\n",
              "      border-left-color: var(--fill-color);\n",
              "      border-top-color: var(--fill-color);\n",
              "    }\n",
              "    30% {\n",
              "      border-color: transparent;\n",
              "      border-left-color: var(--fill-color);\n",
              "      border-top-color: var(--fill-color);\n",
              "      border-right-color: var(--fill-color);\n",
              "    }\n",
              "    40% {\n",
              "      border-color: transparent;\n",
              "      border-right-color: var(--fill-color);\n",
              "      border-top-color: var(--fill-color);\n",
              "    }\n",
              "    60% {\n",
              "      border-color: transparent;\n",
              "      border-right-color: var(--fill-color);\n",
              "    }\n",
              "    80% {\n",
              "      border-color: transparent;\n",
              "      border-right-color: var(--fill-color);\n",
              "      border-bottom-color: var(--fill-color);\n",
              "    }\n",
              "    90% {\n",
              "      border-color: transparent;\n",
              "      border-bottom-color: var(--fill-color);\n",
              "    }\n",
              "  }\n",
              "</style>\n",
              "\n",
              "  <script>\n",
              "    async function quickchart(key) {\n",
              "      const quickchartButtonEl =\n",
              "        document.querySelector('#' + key + ' button');\n",
              "      quickchartButtonEl.disabled = true;  // To prevent multiple clicks.\n",
              "      quickchartButtonEl.classList.add('colab-df-spinner');\n",
              "      try {\n",
              "        const charts = await google.colab.kernel.invokeFunction(\n",
              "            'suggestCharts', [key], {});\n",
              "      } catch (error) {\n",
              "        console.error('Error during call to suggestCharts:', error);\n",
              "      }\n",
              "      quickchartButtonEl.classList.remove('colab-df-spinner');\n",
              "      quickchartButtonEl.classList.add('colab-df-quickchart-complete');\n",
              "    }\n",
              "    (() => {\n",
              "      let quickchartButtonEl =\n",
              "        document.querySelector('#df-5d0e268e-75da-4874-a0aa-8088289ad4f4 button');\n",
              "      quickchartButtonEl.style.display =\n",
              "        google.colab.kernel.accessAllowed ? 'block' : 'none';\n",
              "    })();\n",
              "  </script>\n",
              "</div>\n",
              "    </div>\n",
              "  </div>\n"
            ]
          },
          "metadata": {},
          "execution_count": 161
        }
      ]
    },
    {
      "cell_type": "markdown",
      "source": [
        "## target 정보\n",
        "- 0 : IT/Science\n",
        "- 1 : Economy\n",
        "- 2 : Society\n",
        "- 3 : Culture\n",
        "- 4 : World\n",
        "- 5 : Sport\n",
        "- 6 : Politics"
      ],
      "metadata": {
        "id": "URYq4K0KagAQ"
      }
    },
    {
      "cell_type": "code",
      "source": [
        "f0 = open('/content/it_science.txt', 'r')\n",
        "it_science = f0.read()\n",
        "it_science = it_science.replace('\\n',' ')\n",
        "it_science"
      ],
      "metadata": {
        "colab": {
          "base_uri": "https://localhost:8080/",
          "height": 54
        },
        "id": "iEwnL4RiZ_38",
        "outputId": "79b86d80-4c92-40b6-eae2-373189939c30"
      },
      "execution_count": 162,
      "outputs": [
        {
          "output_type": "execute_result",
          "data": {
            "text/plain": [
              "'기술 스마트폰 데이터 구글 인터넷 갤럭시 스마트 카카오 아이폰 상용 애플 과학 기능 성공 산업 예약 우주 가입자 체험 인공 요금 페이스북 지능 모바일 카메라 발견 시대 나오다 협력 플랫폼 LG유플러스 SK텔레콤 로봇 텔레콤 소재 인간 적용 자율 치료 갤럭시S8 배터리 클라우드 드론 인증 이용 제공 개인 보안 주행 LG전자 알파고 활용 프리미엄'"
            ],
            "application/vnd.google.colaboratory.intrinsic+json": {
              "type": "string"
            }
          },
          "metadata": {},
          "execution_count": 162
        }
      ]
    },
    {
      "cell_type": "code",
      "source": [
        "f1 = open('/content/economy.txt', 'r')\n",
        "economy = f1.read()\n",
        "economy = economy.replace('\\n',' ')\n",
        "economy"
      ],
      "metadata": {
        "colab": {
          "base_uri": "https://localhost:8080/",
          "height": 72
        },
        "id": "54LXwzg2et4I",
        "outputId": "9a37b21a-281d-4605-952e-0aec33cd0a9c"
      },
      "execution_count": 163,
      "outputs": [
        {
          "output_type": "execute_result",
          "data": {
            "text/plain": [
              "'분기 작년 실적 금융 영업익 특징 증가 금리 코스피 대출 상승 증권 주식 달러 목표 하락 상장 영업 은행 펀드 규모 이익 그래픽 주택 최대 전망 성장 결정 아파트 상품 코스닥 감소 주가 기대 거래 증시 대비 환율 인수 강세 퍼센트 분양 공급 자금 매출 배당 매수 회복 전환 운용 해외 수주 지분 경영 발행 반등 자산 현대 채권 공시 상반기 주주 수출 예상 영향 취득 매각 최저 마감 가격 동반 청약 개월 업체 수익'"
            ],
            "application/vnd.google.colaboratory.intrinsic+json": {
              "type": "string"
            }
          },
          "metadata": {},
          "execution_count": 163
        }
      ]
    },
    {
      "cell_type": "code",
      "source": [
        "f2 = open('/content/society.txt', 'r')\n",
        "society = f2.read()\n",
        "society = society.replace('\\n',' ')\n",
        "society"
      ],
      "metadata": {
        "colab": {
          "base_uri": "https://localhost:8080/",
          "height": 54
        },
        "id": "PHkx2d-ceuUC",
        "outputId": "ca708024-603e-4f2b-ab92-29e4e335689c"
      },
      "execution_count": 164,
      "outputs": [
        {
          "output_type": "execute_result",
          "data": {
            "text/plain": [
              "'코로나 교육 노조 학생 광주 사장 방송 학교 기자 안전 공공 일자리 노동자 뉴스 검찰 이사 대전 공무원 대학 의혹 언론 회장 파업 수사 수업 온라인 선임 혁신 교육청 보도 대구 경찰 사회 발표 방통위 기부 지역 고용 재단 수능 피해 감염 센터 교수 관리 토론회 협회 등교 시민 간담회'"
            ],
            "application/vnd.google.colaboratory.intrinsic+json": {
              "type": "string"
            }
          },
          "metadata": {},
          "execution_count": 164
        }
      ]
    },
    {
      "cell_type": "code",
      "source": [
        "f3 = open('/content/culture.txt', 'r')\n",
        "culture = f3.read()\n",
        "culture = culture.replace('\\n',' ')\n",
        "culture"
      ],
      "metadata": {
        "colab": {
          "base_uri": "https://localhost:8080/",
          "height": 54
        },
        "id": "BOMBkqqjfuMK",
        "outputId": "fcd72211-04ab-4a24-8fbc-ed6e241b8570"
      },
      "execution_count": 165,
      "outputs": [
        {
          "output_type": "execute_result",
          "data": {
            "text/plain": [
              "'신간 여행 축제 공연 주말 날씨 문화 주의보 제주 출간 한파 소설 기온 가을 작가 보다 미세 먼지 관광 충북 즐기다 시간 겨울 폭염 영하 영화 연극 이야기 오다 미술 페스티벌 행사 문학 해제 베스트셀러 소식 만화 내일 강풍 특보 음악 전시 뮤지컬 여름 만나다 콘서트 태풍 나쁘다 가다 호우 추위 바다 남부 예술 국제 기념'"
            ],
            "application/vnd.google.colaboratory.intrinsic+json": {
              "type": "string"
            }
          },
          "metadata": {},
          "execution_count": 165
        }
      ]
    },
    {
      "cell_type": "code",
      "source": [
        "f4 = open('/content/world.txt', 'r')\n",
        "world = f4.read()\n",
        "world = world.replace('\\n',' ')\n",
        "world"
      ],
      "metadata": {
        "colab": {
          "base_uri": "https://localhost:8080/",
          "height": 72
        },
        "id": "4v2x-ia_f9DI",
        "outputId": "1c40d767-6726-41dd-cf48-0912080b8212"
      },
      "execution_count": 166,
      "outputs": [
        {
          "output_type": "execute_result",
          "data": {
            "text/plain": [
              "'이란 터키 미국 시리아 공격 중국 사망 시위 홍콩 테러 이스라엘 대선 사우디 일본 협상 힐러리 이라크 오바마 난민 체포 인도 유럽 아프리카 중동 무역 브렉시트 수단 쿠르드 유엔 재개 대사 요구 화웨이 극우 군사 사태 베네수엘라 유조선 최소 프랑스 아베 우크라 에르도안 비판 군부 스페인 갈등 독일 경선 국가 전쟁 반대 논란 이탈리아 크다 푸틴 시진핑 금지'"
            ],
            "application/vnd.google.colaboratory.intrinsic+json": {
              "type": "string"
            }
          },
          "metadata": {},
          "execution_count": 166
        }
      ]
    },
    {
      "cell_type": "code",
      "source": [
        "f5 = open('/content/sport.txt', 'r')\n",
        "sport = f5.read()\n",
        "sport = sport.replace('\\n',' ')\n",
        "sport"
      ],
      "metadata": {
        "colab": {
          "base_uri": "https://localhost:8080/",
          "height": 72
        },
        "id": "9pZFDQNXgDn9",
        "outputId": "6949ace3-80e8-4e1c-9894-3ae3c7666c83"
      },
      "execution_count": 167,
      "outputs": [
        {
          "output_type": "execute_result",
          "data": {
            "text/plain": [
              "'감독 농구 프로 경기 배구 월드컵 여자 축구 선수 시즌 연승 류현진 리그 홈런 손흥민 우승 아시안 꺾다 출전 연속 연패 승리 야구 두산 추신수 다저스 남자 부상 이닝 안타 선두 복귀 영입 실점 결승 롯데 코치 구단 현대캐피탈 타자 맨유 이재영 넥센 득점 최다 역대 투수 강정호 GS칼텍스 제압 진출 도전 흥국생명 OK저축은행 신태용호 시작 준비 기성용 참가 예선 이적 네이마르 탈출 상대 최초 대타 선발'"
            ],
            "application/vnd.google.colaboratory.intrinsic+json": {
              "type": "string"
            }
          },
          "metadata": {},
          "execution_count": 167
        }
      ]
    },
    {
      "cell_type": "code",
      "source": [
        "f6 = open('/content/politics.txt', 'r')\n",
        "politics = f6.read()\n",
        "politics = politics.replace('\\n',' ')\n",
        "politics"
      ],
      "metadata": {
        "colab": {
          "base_uri": "https://localhost:8080/",
          "height": 54
        },
        "id": "CnmUw3xmgKci",
        "outputId": "9c82c299-03c9-4e65-ec74-46e347b62539"
      },
      "execution_count": 168,
      "outputs": [
        {
          "output_type": "execute_result",
          "data": {
            "text/plain": [
              "'국회 김정은 남북 여야 평양 회의 의원 북한 한국당 선언 평화 더민주 대북 사드 원내 한미 회동 북핵 위하다 대응 참석 처리 인권 대통녕 정치 북미 국민의당 속보 국정 청문회 법안 미래 역사 체제 판문점 실험 탄핵 이해찬 의장 결의 개혁 주장 바르다 인사 출마 결과 입장 개헌 김종인 채택'"
            ],
            "application/vnd.google.colaboratory.intrinsic+json": {
              "type": "string"
            }
          },
          "metadata": {},
          "execution_count": 168
        }
      ]
    },
    {
      "cell_type": "markdown",
      "source": [
        "## 카테고리별 단어 list 더하기"
      ],
      "metadata": {
        "id": "4ensUEAXqOwm"
      }
    },
    {
      "cell_type": "code",
      "source": [
        "for index,row in df.iterrows():\n",
        "  if row['target']==0:\n",
        "    row['text'] = row['text'] + it_science\n",
        "  elif row['target']==1:\n",
        "    row['text'] = row['text'] + economy\n",
        "  elif row['target']==2:\n",
        "    row['text'] = row['text'] + society\n",
        "  elif row['target']==3:\n",
        "    row['text'] = row['text'] + culture\n",
        "  elif row['target']==4:\n",
        "    row['text'] = row['text'] + world\n",
        "  elif row['target']==5:\n",
        "    row['text'] = row['text'] + sport\n",
        "  elif row['target']==6:\n",
        "    row['text'] = row['text'] + politics"
      ],
      "metadata": {
        "id": "kmOrLwgDj8Q-"
      },
      "execution_count": 170,
      "outputs": []
    },
    {
      "cell_type": "code",
      "source": [
        "word_dict = {0:it_science,1:economy,2:society,3:culture,4:world,5:sport,6:politics}\n",
        "word_dict"
      ],
      "metadata": {
        "colab": {
          "base_uri": "https://localhost:8080/"
        },
        "id": "IIf7MmQiowkT",
        "outputId": "1967a1b2-62f2-4e7e-898f-955899f133d9"
      },
      "execution_count": 171,
      "outputs": [
        {
          "output_type": "execute_result",
          "data": {
            "text/plain": [
              "{0: '기술 스마트폰 데이터 구글 인터넷 갤럭시 스마트 카카오 아이폰 상용 애플 과학 기능 성공 산업 예약 우주 가입자 체험 인공 요금 페이스북 지능 모바일 카메라 발견 시대 나오다 협력 플랫폼 LG유플러스 SK텔레콤 로봇 텔레콤 소재 인간 적용 자율 치료 갤럭시S8 배터리 클라우드 드론 인증 이용 제공 개인 보안 주행 LG전자 알파고 활용 프리미엄',\n",
              " 1: '분기 작년 실적 금융 영업익 특징 증가 금리 코스피 대출 상승 증권 주식 달러 목표 하락 상장 영업 은행 펀드 규모 이익 그래픽 주택 최대 전망 성장 결정 아파트 상품 코스닥 감소 주가 기대 거래 증시 대비 환율 인수 강세 퍼센트 분양 공급 자금 매출 배당 매수 회복 전환 운용 해외 수주 지분 경영 발행 반등 자산 현대 채권 공시 상반기 주주 수출 예상 영향 취득 매각 최저 마감 가격 동반 청약 개월 업체 수익',\n",
              " 2: '코로나 교육 노조 학생 광주 사장 방송 학교 기자 안전 공공 일자리 노동자 뉴스 검찰 이사 대전 공무원 대학 의혹 언론 회장 파업 수사 수업 온라인 선임 혁신 교육청 보도 대구 경찰 사회 발표 방통위 기부 지역 고용 재단 수능 피해 감염 센터 교수 관리 토론회 협회 등교 시민 간담회',\n",
              " 3: '신간 여행 축제 공연 주말 날씨 문화 주의보 제주 출간 한파 소설 기온 가을 작가 보다 미세 먼지 관광 충북 즐기다 시간 겨울 폭염 영하 영화 연극 이야기 오다 미술 페스티벌 행사 문학 해제 베스트셀러 소식 만화 내일 강풍 특보 음악 전시 뮤지컬 여름 만나다 콘서트 태풍 나쁘다 가다 호우 추위 바다 남부 예술 국제 기념',\n",
              " 4: '이란 터키 미국 시리아 공격 중국 사망 시위 홍콩 테러 이스라엘 대선 사우디 일본 협상 힐러리 이라크 오바마 난민 체포 인도 유럽 아프리카 중동 무역 브렉시트 수단 쿠르드 유엔 재개 대사 요구 화웨이 극우 군사 사태 베네수엘라 유조선 최소 프랑스 아베 우크라 에르도안 비판 군부 스페인 갈등 독일 경선 국가 전쟁 반대 논란 이탈리아 크다 푸틴 시진핑 금지',\n",
              " 5: '감독 농구 프로 경기 배구 월드컵 여자 축구 선수 시즌 연승 류현진 리그 홈런 손흥민 우승 아시안 꺾다 출전 연속 연패 승리 야구 두산 추신수 다저스 남자 부상 이닝 안타 선두 복귀 영입 실점 결승 롯데 코치 구단 현대캐피탈 타자 맨유 이재영 넥센 득점 최다 역대 투수 강정호 GS칼텍스 제압 진출 도전 흥국생명 OK저축은행 신태용호 시작 준비 기성용 참가 예선 이적 네이마르 탈출 상대 최초 대타 선발',\n",
              " 6: '국회 김정은 남북 여야 평양 회의 의원 북한 한국당 선언 평화 더민주 대북 사드 원내 한미 회동 북핵 위하다 대응 참석 처리 인권 대통녕 정치 북미 국민의당 속보 국정 청문회 법안 미래 역사 체제 판문점 실험 탄핵 이해찬 의장 결의 개혁 주장 바르다 인사 출마 결과 입장 개헌 김종인 채택'}"
            ]
          },
          "metadata": {},
          "execution_count": 171
        }
      ]
    },
    {
      "cell_type": "code",
      "source": [
        "word_dict[0]"
      ],
      "metadata": {
        "colab": {
          "base_uri": "https://localhost:8080/",
          "height": 54
        },
        "id": "UqWhwdS6pGh7",
        "outputId": "ffd35167-24ce-4aa2-8689-9a9fe147a9c0"
      },
      "execution_count": 172,
      "outputs": [
        {
          "output_type": "execute_result",
          "data": {
            "text/plain": [
              "'기술 스마트폰 데이터 구글 인터넷 갤럭시 스마트 카카오 아이폰 상용 애플 과학 기능 성공 산업 예약 우주 가입자 체험 인공 요금 페이스북 지능 모바일 카메라 발견 시대 나오다 협력 플랫폼 LG유플러스 SK텔레콤 로봇 텔레콤 소재 인간 적용 자율 치료 갤럭시S8 배터리 클라우드 드론 인증 이용 제공 개인 보안 주행 LG전자 알파고 활용 프리미엄'"
            ],
            "application/vnd.google.colaboratory.intrinsic+json": {
              "type": "string"
            }
          },
          "metadata": {},
          "execution_count": 172
        }
      ]
    },
    {
      "cell_type": "code",
      "source": [
        "df.iloc[:1]['text']"
      ],
      "metadata": {
        "colab": {
          "base_uri": "https://localhost:8080/"
        },
        "id": "CfNfTy4gitSz",
        "outputId": "6a35575e-8eeb-4261-e2ed-b63e737ddd76"
      },
      "execution_count": 173,
      "outputs": [
        {
          "output_type": "execute_result",
          "data": {
            "text/plain": [
              "0    개포2단지 분양 앞두고 개포지구 재건축 불붙어\n",
              "Name: text, dtype: object"
            ]
          },
          "metadata": {},
          "execution_count": 173
        }
      ]
    },
    {
      "cell_type": "code",
      "source": [
        "def add_text(row):\n",
        "  dic = word_dict\n",
        "  if row['target']==0:\n",
        "    result = row['text'] + ' ' + dic[0]\n",
        "  elif row['target']==1:\n",
        "    result = row['text'] + ' ' + dic[1]\n",
        "  elif row['target']==2:\n",
        "    result = row['text'] + ' ' + dic[2]\n",
        "  elif row['target']==3:\n",
        "    result = row['text'] + ' ' + dic[3]\n",
        "  elif row['target']==4:\n",
        "    result = row['text'] + ' ' + dic[4]\n",
        "  elif row['target']==5:\n",
        "    result = row['text'] + ' ' + dic[5]\n",
        "  elif row['target']==6:\n",
        "    result = row['text'] + ' ' + dic[6]\n",
        "  return result"
      ],
      "metadata": {
        "id": "p__FUJygoeQc"
      },
      "execution_count": 174,
      "outputs": []
    },
    {
      "cell_type": "code",
      "source": [
        "# df['add_text'] = df.apply(add_text, axis=1)\n",
        "df['text'] = df.apply(add_text,axis=1)"
      ],
      "metadata": {
        "id": "9lw0qgwqpkLO"
      },
      "execution_count": 175,
      "outputs": []
    },
    {
      "cell_type": "code",
      "source": [
        "df.iloc[:1]['text']"
      ],
      "metadata": {
        "colab": {
          "base_uri": "https://localhost:8080/"
        },
        "id": "ki3dtx-VjLw-",
        "outputId": "815af488-9390-4299-8200-be1a01e9d8f7"
      },
      "execution_count": 176,
      "outputs": [
        {
          "output_type": "execute_result",
          "data": {
            "text/plain": [
              "0    개포2단지 분양 앞두고 개포지구 재건축 불붙어 분기 작년 실적 금융 영업익 특징 증...\n",
              "Name: text, dtype: object"
            ]
          },
          "metadata": {},
          "execution_count": 176
        }
      ]
    },
    {
      "cell_type": "code",
      "source": [
        "df"
      ],
      "metadata": {
        "colab": {
          "base_uri": "https://localhost:8080/",
          "height": 597
        },
        "id": "PiqgXnjaivA6",
        "outputId": "c3ee381e-69a4-40c9-b030-b8917f6e0333"
      },
      "execution_count": 177,
      "outputs": [
        {
          "output_type": "execute_result",
          "data": {
            "text/plain": [
              "                       ID                                               text  \\\n",
              "0     ynat-v1_train_00000  개포2단지 분양 앞두고 개포지구 재건축 불붙어 분기 작년 실적 금융 영업익 특징 증...   \n",
              "1     ynat-v1_train_00001  삼성전자 KBIS 2018서 셰프컬렉션 선보여 기술 스마트폰 데이터 구글 인터넷 갤...   \n",
              "2     ynat-v1_train_00002  LG G6 사면 BO 이어폰이 단돈 5천원 기술 스마트폰 데이터 구글 인터넷 갤럭시...   \n",
              "3     ynat-v1_train_00003  신간 블록체인혁명 2030·남자의 고독사 신간 여행 축제 공연 주말 날씨 문화 주의...   \n",
              "4     ynat-v1_train_00004  이스라엘 정보당국 팔레스타인인 50명 테러 혐의로 체포 이란 터키 미국 시리아 공격...   \n",
              "...                   ...                                                ...   \n",
              "6995  ynat-v1_train_06995  힐만 SK 감독 고통스럽지만 내 상황 솔직히 알려야 해 감독 농구 프로 경기 배구 ...   \n",
              "6996  ynat-v1_train_06996  정의장 사드 국회동의 사안 아니라 쳐도 충분히 협의해야 국회 김정은 남북 여야 평양...   \n",
              "6997  ynat-v1_train_06997  정치권 엘시티 수사 돌발변수에 촉각…왜 지금 국회 김정은 남북 여야 평양 회의 의원...   \n",
              "6998  ynat-v1_train_06998  문 대통령 1987 관람…깜짝 방문에 객석 환호·박수종합 국회 김정은 남북 여야 평...   \n",
              "6999  ynat-v1_train_06999  120년 전 대한제국으로…가을밤 정동에서 시간 여행 떠나다 신간 여행 축제 공연 주...   \n",
              "\n",
              "      target                                                url  \\\n",
              "0          1  https://news.naver.com/main/read.nhn?mode=LS2D...   \n",
              "1          0  https://news.naver.com/main/read.nhn?mode=LS2D...   \n",
              "2          0  https://news.naver.com/main/read.nhn?mode=LS2D...   \n",
              "3          3  https://news.naver.com/main/read.nhn?mode=LS2D...   \n",
              "4          4  https://news.naver.com/main/read.nhn?mode=LS2D...   \n",
              "...      ...                                                ...   \n",
              "6995       5  https://sports.news.naver.com/news.nhn?oid=001...   \n",
              "6996       6  https://news.naver.com/main/read.nhn?mode=LS2D...   \n",
              "6997       6  https://news.naver.com/main/read.nhn?mode=LS2D...   \n",
              "6998       6  https://news.naver.com/main/read.nhn?mode=LS2D...   \n",
              "6999       3  https://news.naver.com/main/read.nhn?mode=LS2D...   \n",
              "\n",
              "                      date  \n",
              "0     2016.03.16. 오전 11:37  \n",
              "1      2018.01.10. 오전 8:33  \n",
              "2     2017.04.30. 오전 10:00  \n",
              "3     2019.06.13. 오전 11:49  \n",
              "4     2019.12.18. 오후 11:15  \n",
              "...                    ...  \n",
              "6995      2018.10.13 15:46  \n",
              "6996   2016.07.17. 오후 6:20  \n",
              "6997   2016.11.16. 오후 6:24  \n",
              "6998   2018.01.07. 오후 5:23  \n",
              "6999   2016.10.28. 오후 8:13  \n",
              "\n",
              "[7000 rows x 5 columns]"
            ],
            "text/html": [
              "\n",
              "  <div id=\"df-cf89d78c-c55f-4afc-be2b-3ecae26aead4\" class=\"colab-df-container\">\n",
              "    <div>\n",
              "<style scoped>\n",
              "    .dataframe tbody tr th:only-of-type {\n",
              "        vertical-align: middle;\n",
              "    }\n",
              "\n",
              "    .dataframe tbody tr th {\n",
              "        vertical-align: top;\n",
              "    }\n",
              "\n",
              "    .dataframe thead th {\n",
              "        text-align: right;\n",
              "    }\n",
              "</style>\n",
              "<table border=\"1\" class=\"dataframe\">\n",
              "  <thead>\n",
              "    <tr style=\"text-align: right;\">\n",
              "      <th></th>\n",
              "      <th>ID</th>\n",
              "      <th>text</th>\n",
              "      <th>target</th>\n",
              "      <th>url</th>\n",
              "      <th>date</th>\n",
              "    </tr>\n",
              "  </thead>\n",
              "  <tbody>\n",
              "    <tr>\n",
              "      <th>0</th>\n",
              "      <td>ynat-v1_train_00000</td>\n",
              "      <td>개포2단지 분양 앞두고 개포지구 재건축 불붙어 분기 작년 실적 금융 영업익 특징 증...</td>\n",
              "      <td>1</td>\n",
              "      <td>https://news.naver.com/main/read.nhn?mode=LS2D...</td>\n",
              "      <td>2016.03.16. 오전 11:37</td>\n",
              "    </tr>\n",
              "    <tr>\n",
              "      <th>1</th>\n",
              "      <td>ynat-v1_train_00001</td>\n",
              "      <td>삼성전자 KBIS 2018서 셰프컬렉션 선보여 기술 스마트폰 데이터 구글 인터넷 갤...</td>\n",
              "      <td>0</td>\n",
              "      <td>https://news.naver.com/main/read.nhn?mode=LS2D...</td>\n",
              "      <td>2018.01.10. 오전 8:33</td>\n",
              "    </tr>\n",
              "    <tr>\n",
              "      <th>2</th>\n",
              "      <td>ynat-v1_train_00002</td>\n",
              "      <td>LG G6 사면 BO 이어폰이 단돈 5천원 기술 스마트폰 데이터 구글 인터넷 갤럭시...</td>\n",
              "      <td>0</td>\n",
              "      <td>https://news.naver.com/main/read.nhn?mode=LS2D...</td>\n",
              "      <td>2017.04.30. 오전 10:00</td>\n",
              "    </tr>\n",
              "    <tr>\n",
              "      <th>3</th>\n",
              "      <td>ynat-v1_train_00003</td>\n",
              "      <td>신간 블록체인혁명 2030·남자의 고독사 신간 여행 축제 공연 주말 날씨 문화 주의...</td>\n",
              "      <td>3</td>\n",
              "      <td>https://news.naver.com/main/read.nhn?mode=LS2D...</td>\n",
              "      <td>2019.06.13. 오전 11:49</td>\n",
              "    </tr>\n",
              "    <tr>\n",
              "      <th>4</th>\n",
              "      <td>ynat-v1_train_00004</td>\n",
              "      <td>이스라엘 정보당국 팔레스타인인 50명 테러 혐의로 체포 이란 터키 미국 시리아 공격...</td>\n",
              "      <td>4</td>\n",
              "      <td>https://news.naver.com/main/read.nhn?mode=LS2D...</td>\n",
              "      <td>2019.12.18. 오후 11:15</td>\n",
              "    </tr>\n",
              "    <tr>\n",
              "      <th>...</th>\n",
              "      <td>...</td>\n",
              "      <td>...</td>\n",
              "      <td>...</td>\n",
              "      <td>...</td>\n",
              "      <td>...</td>\n",
              "    </tr>\n",
              "    <tr>\n",
              "      <th>6995</th>\n",
              "      <td>ynat-v1_train_06995</td>\n",
              "      <td>힐만 SK 감독 고통스럽지만 내 상황 솔직히 알려야 해 감독 농구 프로 경기 배구 ...</td>\n",
              "      <td>5</td>\n",
              "      <td>https://sports.news.naver.com/news.nhn?oid=001...</td>\n",
              "      <td>2018.10.13 15:46</td>\n",
              "    </tr>\n",
              "    <tr>\n",
              "      <th>6996</th>\n",
              "      <td>ynat-v1_train_06996</td>\n",
              "      <td>정의장 사드 국회동의 사안 아니라 쳐도 충분히 협의해야 국회 김정은 남북 여야 평양...</td>\n",
              "      <td>6</td>\n",
              "      <td>https://news.naver.com/main/read.nhn?mode=LS2D...</td>\n",
              "      <td>2016.07.17. 오후 6:20</td>\n",
              "    </tr>\n",
              "    <tr>\n",
              "      <th>6997</th>\n",
              "      <td>ynat-v1_train_06997</td>\n",
              "      <td>정치권 엘시티 수사 돌발변수에 촉각…왜 지금 국회 김정은 남북 여야 평양 회의 의원...</td>\n",
              "      <td>6</td>\n",
              "      <td>https://news.naver.com/main/read.nhn?mode=LS2D...</td>\n",
              "      <td>2016.11.16. 오후 6:24</td>\n",
              "    </tr>\n",
              "    <tr>\n",
              "      <th>6998</th>\n",
              "      <td>ynat-v1_train_06998</td>\n",
              "      <td>문 대통령 1987 관람…깜짝 방문에 객석 환호·박수종합 국회 김정은 남북 여야 평...</td>\n",
              "      <td>6</td>\n",
              "      <td>https://news.naver.com/main/read.nhn?mode=LS2D...</td>\n",
              "      <td>2018.01.07. 오후 5:23</td>\n",
              "    </tr>\n",
              "    <tr>\n",
              "      <th>6999</th>\n",
              "      <td>ynat-v1_train_06999</td>\n",
              "      <td>120년 전 대한제국으로…가을밤 정동에서 시간 여행 떠나다 신간 여행 축제 공연 주...</td>\n",
              "      <td>3</td>\n",
              "      <td>https://news.naver.com/main/read.nhn?mode=LS2D...</td>\n",
              "      <td>2016.10.28. 오후 8:13</td>\n",
              "    </tr>\n",
              "  </tbody>\n",
              "</table>\n",
              "<p>7000 rows × 5 columns</p>\n",
              "</div>\n",
              "    <div class=\"colab-df-buttons\">\n",
              "\n",
              "  <div class=\"colab-df-container\">\n",
              "    <button class=\"colab-df-convert\" onclick=\"convertToInteractive('df-cf89d78c-c55f-4afc-be2b-3ecae26aead4')\"\n",
              "            title=\"Convert this dataframe to an interactive table.\"\n",
              "            style=\"display:none;\">\n",
              "\n",
              "  <svg xmlns=\"http://www.w3.org/2000/svg\" height=\"24px\" viewBox=\"0 -960 960 960\">\n",
              "    <path d=\"M120-120v-720h720v720H120Zm60-500h600v-160H180v160Zm220 220h160v-160H400v160Zm0 220h160v-160H400v160ZM180-400h160v-160H180v160Zm440 0h160v-160H620v160ZM180-180h160v-160H180v160Zm440 0h160v-160H620v160Z\"/>\n",
              "  </svg>\n",
              "    </button>\n",
              "\n",
              "  <style>\n",
              "    .colab-df-container {\n",
              "      display:flex;\n",
              "      gap: 12px;\n",
              "    }\n",
              "\n",
              "    .colab-df-convert {\n",
              "      background-color: #E8F0FE;\n",
              "      border: none;\n",
              "      border-radius: 50%;\n",
              "      cursor: pointer;\n",
              "      display: none;\n",
              "      fill: #1967D2;\n",
              "      height: 32px;\n",
              "      padding: 0 0 0 0;\n",
              "      width: 32px;\n",
              "    }\n",
              "\n",
              "    .colab-df-convert:hover {\n",
              "      background-color: #E2EBFA;\n",
              "      box-shadow: 0px 1px 2px rgba(60, 64, 67, 0.3), 0px 1px 3px 1px rgba(60, 64, 67, 0.15);\n",
              "      fill: #174EA6;\n",
              "    }\n",
              "\n",
              "    .colab-df-buttons div {\n",
              "      margin-bottom: 4px;\n",
              "    }\n",
              "\n",
              "    [theme=dark] .colab-df-convert {\n",
              "      background-color: #3B4455;\n",
              "      fill: #D2E3FC;\n",
              "    }\n",
              "\n",
              "    [theme=dark] .colab-df-convert:hover {\n",
              "      background-color: #434B5C;\n",
              "      box-shadow: 0px 1px 3px 1px rgba(0, 0, 0, 0.15);\n",
              "      filter: drop-shadow(0px 1px 2px rgba(0, 0, 0, 0.3));\n",
              "      fill: #FFFFFF;\n",
              "    }\n",
              "  </style>\n",
              "\n",
              "    <script>\n",
              "      const buttonEl =\n",
              "        document.querySelector('#df-cf89d78c-c55f-4afc-be2b-3ecae26aead4 button.colab-df-convert');\n",
              "      buttonEl.style.display =\n",
              "        google.colab.kernel.accessAllowed ? 'block' : 'none';\n",
              "\n",
              "      async function convertToInteractive(key) {\n",
              "        const element = document.querySelector('#df-cf89d78c-c55f-4afc-be2b-3ecae26aead4');\n",
              "        const dataTable =\n",
              "          await google.colab.kernel.invokeFunction('convertToInteractive',\n",
              "                                                    [key], {});\n",
              "        if (!dataTable) return;\n",
              "\n",
              "        const docLinkHtml = 'Like what you see? Visit the ' +\n",
              "          '<a target=\"_blank\" href=https://colab.research.google.com/notebooks/data_table.ipynb>data table notebook</a>'\n",
              "          + ' to learn more about interactive tables.';\n",
              "        element.innerHTML = '';\n",
              "        dataTable['output_type'] = 'display_data';\n",
              "        await google.colab.output.renderOutput(dataTable, element);\n",
              "        const docLink = document.createElement('div');\n",
              "        docLink.innerHTML = docLinkHtml;\n",
              "        element.appendChild(docLink);\n",
              "      }\n",
              "    </script>\n",
              "  </div>\n",
              "\n",
              "\n",
              "<div id=\"df-84a0be60-3d5d-45ca-8889-14c539249b49\">\n",
              "  <button class=\"colab-df-quickchart\" onclick=\"quickchart('df-84a0be60-3d5d-45ca-8889-14c539249b49')\"\n",
              "            title=\"Suggest charts\"\n",
              "            style=\"display:none;\">\n",
              "\n",
              "<svg xmlns=\"http://www.w3.org/2000/svg\" height=\"24px\"viewBox=\"0 0 24 24\"\n",
              "     width=\"24px\">\n",
              "    <g>\n",
              "        <path d=\"M19 3H5c-1.1 0-2 .9-2 2v14c0 1.1.9 2 2 2h14c1.1 0 2-.9 2-2V5c0-1.1-.9-2-2-2zM9 17H7v-7h2v7zm4 0h-2V7h2v10zm4 0h-2v-4h2v4z\"/>\n",
              "    </g>\n",
              "</svg>\n",
              "  </button>\n",
              "\n",
              "<style>\n",
              "  .colab-df-quickchart {\n",
              "      --bg-color: #E8F0FE;\n",
              "      --fill-color: #1967D2;\n",
              "      --hover-bg-color: #E2EBFA;\n",
              "      --hover-fill-color: #174EA6;\n",
              "      --disabled-fill-color: #AAA;\n",
              "      --disabled-bg-color: #DDD;\n",
              "  }\n",
              "\n",
              "  [theme=dark] .colab-df-quickchart {\n",
              "      --bg-color: #3B4455;\n",
              "      --fill-color: #D2E3FC;\n",
              "      --hover-bg-color: #434B5C;\n",
              "      --hover-fill-color: #FFFFFF;\n",
              "      --disabled-bg-color: #3B4455;\n",
              "      --disabled-fill-color: #666;\n",
              "  }\n",
              "\n",
              "  .colab-df-quickchart {\n",
              "    background-color: var(--bg-color);\n",
              "    border: none;\n",
              "    border-radius: 50%;\n",
              "    cursor: pointer;\n",
              "    display: none;\n",
              "    fill: var(--fill-color);\n",
              "    height: 32px;\n",
              "    padding: 0;\n",
              "    width: 32px;\n",
              "  }\n",
              "\n",
              "  .colab-df-quickchart:hover {\n",
              "    background-color: var(--hover-bg-color);\n",
              "    box-shadow: 0 1px 2px rgba(60, 64, 67, 0.3), 0 1px 3px 1px rgba(60, 64, 67, 0.15);\n",
              "    fill: var(--button-hover-fill-color);\n",
              "  }\n",
              "\n",
              "  .colab-df-quickchart-complete:disabled,\n",
              "  .colab-df-quickchart-complete:disabled:hover {\n",
              "    background-color: var(--disabled-bg-color);\n",
              "    fill: var(--disabled-fill-color);\n",
              "    box-shadow: none;\n",
              "  }\n",
              "\n",
              "  .colab-df-spinner {\n",
              "    border: 2px solid var(--fill-color);\n",
              "    border-color: transparent;\n",
              "    border-bottom-color: var(--fill-color);\n",
              "    animation:\n",
              "      spin 1s steps(1) infinite;\n",
              "  }\n",
              "\n",
              "  @keyframes spin {\n",
              "    0% {\n",
              "      border-color: transparent;\n",
              "      border-bottom-color: var(--fill-color);\n",
              "      border-left-color: var(--fill-color);\n",
              "    }\n",
              "    20% {\n",
              "      border-color: transparent;\n",
              "      border-left-color: var(--fill-color);\n",
              "      border-top-color: var(--fill-color);\n",
              "    }\n",
              "    30% {\n",
              "      border-color: transparent;\n",
              "      border-left-color: var(--fill-color);\n",
              "      border-top-color: var(--fill-color);\n",
              "      border-right-color: var(--fill-color);\n",
              "    }\n",
              "    40% {\n",
              "      border-color: transparent;\n",
              "      border-right-color: var(--fill-color);\n",
              "      border-top-color: var(--fill-color);\n",
              "    }\n",
              "    60% {\n",
              "      border-color: transparent;\n",
              "      border-right-color: var(--fill-color);\n",
              "    }\n",
              "    80% {\n",
              "      border-color: transparent;\n",
              "      border-right-color: var(--fill-color);\n",
              "      border-bottom-color: var(--fill-color);\n",
              "    }\n",
              "    90% {\n",
              "      border-color: transparent;\n",
              "      border-bottom-color: var(--fill-color);\n",
              "    }\n",
              "  }\n",
              "</style>\n",
              "\n",
              "  <script>\n",
              "    async function quickchart(key) {\n",
              "      const quickchartButtonEl =\n",
              "        document.querySelector('#' + key + ' button');\n",
              "      quickchartButtonEl.disabled = true;  // To prevent multiple clicks.\n",
              "      quickchartButtonEl.classList.add('colab-df-spinner');\n",
              "      try {\n",
              "        const charts = await google.colab.kernel.invokeFunction(\n",
              "            'suggestCharts', [key], {});\n",
              "      } catch (error) {\n",
              "        console.error('Error during call to suggestCharts:', error);\n",
              "      }\n",
              "      quickchartButtonEl.classList.remove('colab-df-spinner');\n",
              "      quickchartButtonEl.classList.add('colab-df-quickchart-complete');\n",
              "    }\n",
              "    (() => {\n",
              "      let quickchartButtonEl =\n",
              "        document.querySelector('#df-84a0be60-3d5d-45ca-8889-14c539249b49 button');\n",
              "      quickchartButtonEl.style.display =\n",
              "        google.colab.kernel.accessAllowed ? 'block' : 'none';\n",
              "    })();\n",
              "  </script>\n",
              "</div>\n",
              "    </div>\n",
              "  </div>\n"
            ]
          },
          "metadata": {},
          "execution_count": 177
        }
      ]
    },
    {
      "cell_type": "code",
      "source": [
        "df.to_csv('category_word_add.csv',encoding='utf-8-sig')"
      ],
      "metadata": {
        "id": "1xRlvSM4tFo0"
      },
      "execution_count": 194,
      "outputs": []
    },
    {
      "cell_type": "markdown",
      "source": [
        "## 단어 길이 시각화"
      ],
      "metadata": {
        "id": "P6x9XD4PryYO"
      }
    },
    {
      "cell_type": "code",
      "source": [
        "def text_len(t):\n",
        "  return len(t)"
      ],
      "metadata": {
        "id": "dKK5PS5cqUu0"
      },
      "execution_count": 178,
      "outputs": []
    },
    {
      "cell_type": "code",
      "source": [
        "text_len_list = df['text'].apply(lambda x : text_len(x))"
      ],
      "metadata": {
        "id": "XQ6qO4CdqYYZ"
      },
      "execution_count": 179,
      "outputs": []
    },
    {
      "cell_type": "code",
      "source": [
        "text_len_list"
      ],
      "metadata": {
        "colab": {
          "base_uri": "https://localhost:8080/"
        },
        "id": "XUE1IwbZqojq",
        "outputId": "8edcf2bd-5035-4219-9352-1c246e40bb8a"
      },
      "execution_count": 180,
      "outputs": [
        {
          "output_type": "execute_result",
          "data": {
            "text/plain": [
              "0       257\n",
              "1       218\n",
              "2       216\n",
              "3       202\n",
              "4       229\n",
              "       ... \n",
              "6995    256\n",
              "6996    192\n",
              "6997    186\n",
              "6998    193\n",
              "6999    212\n",
              "Name: text, Length: 7000, dtype: int64"
            ]
          },
          "metadata": {},
          "execution_count": 180
        }
      ]
    },
    {
      "cell_type": "code",
      "source": [
        "text_len_list.min()"
      ],
      "metadata": {
        "colab": {
          "base_uri": "https://localhost:8080/"
        },
        "id": "Ba2t5LUuq6Mx",
        "outputId": "4ebd3db7-3277-4712-8ef2-85d396e62588"
      },
      "execution_count": 181,
      "outputs": [
        {
          "output_type": "execute_result",
          "data": {
            "text/plain": [
              "167"
            ]
          },
          "metadata": {},
          "execution_count": 181
        }
      ]
    },
    {
      "cell_type": "code",
      "source": [
        "text_len_list.max()"
      ],
      "metadata": {
        "colab": {
          "base_uri": "https://localhost:8080/"
        },
        "id": "7xUvufD0qq9N",
        "outputId": "f0d263c1-28a0-4d81-ac07-d1ca4c6b1b10"
      },
      "execution_count": 182,
      "outputs": [
        {
          "output_type": "execute_result",
          "data": {
            "text/plain": [
              "272"
            ]
          },
          "metadata": {},
          "execution_count": 182
        }
      ]
    },
    {
      "cell_type": "code",
      "source": [
        "temp = text_len_list.to_frame()\n",
        "temp[temp['text']>256]"
      ],
      "metadata": {
        "colab": {
          "base_uri": "https://localhost:8080/",
          "height": 424
        },
        "id": "Fy4-lz7u1Vg4",
        "outputId": "651bc215-9762-41c4-d3a0-6ec1b63f097f"
      },
      "execution_count": 198,
      "outputs": [
        {
          "output_type": "execute_result",
          "data": {
            "text/plain": [
              "      text\n",
              "0      257\n",
              "5      258\n",
              "6      259\n",
              "7      258\n",
              "15     259\n",
              "...    ...\n",
              "6952   258\n",
              "6978   260\n",
              "6986   258\n",
              "6987   259\n",
              "6992   257\n",
              "\n",
              "[1122 rows x 1 columns]"
            ],
            "text/html": [
              "\n",
              "  <div id=\"df-4e433c10-15b2-4800-b8e9-fc1e1a2073d4\" class=\"colab-df-container\">\n",
              "    <div>\n",
              "<style scoped>\n",
              "    .dataframe tbody tr th:only-of-type {\n",
              "        vertical-align: middle;\n",
              "    }\n",
              "\n",
              "    .dataframe tbody tr th {\n",
              "        vertical-align: top;\n",
              "    }\n",
              "\n",
              "    .dataframe thead th {\n",
              "        text-align: right;\n",
              "    }\n",
              "</style>\n",
              "<table border=\"1\" class=\"dataframe\">\n",
              "  <thead>\n",
              "    <tr style=\"text-align: right;\">\n",
              "      <th></th>\n",
              "      <th>text</th>\n",
              "    </tr>\n",
              "  </thead>\n",
              "  <tbody>\n",
              "    <tr>\n",
              "      <th>0</th>\n",
              "      <td>257</td>\n",
              "    </tr>\n",
              "    <tr>\n",
              "      <th>5</th>\n",
              "      <td>258</td>\n",
              "    </tr>\n",
              "    <tr>\n",
              "      <th>6</th>\n",
              "      <td>259</td>\n",
              "    </tr>\n",
              "    <tr>\n",
              "      <th>7</th>\n",
              "      <td>258</td>\n",
              "    </tr>\n",
              "    <tr>\n",
              "      <th>15</th>\n",
              "      <td>259</td>\n",
              "    </tr>\n",
              "    <tr>\n",
              "      <th>...</th>\n",
              "      <td>...</td>\n",
              "    </tr>\n",
              "    <tr>\n",
              "      <th>6952</th>\n",
              "      <td>258</td>\n",
              "    </tr>\n",
              "    <tr>\n",
              "      <th>6978</th>\n",
              "      <td>260</td>\n",
              "    </tr>\n",
              "    <tr>\n",
              "      <th>6986</th>\n",
              "      <td>258</td>\n",
              "    </tr>\n",
              "    <tr>\n",
              "      <th>6987</th>\n",
              "      <td>259</td>\n",
              "    </tr>\n",
              "    <tr>\n",
              "      <th>6992</th>\n",
              "      <td>257</td>\n",
              "    </tr>\n",
              "  </tbody>\n",
              "</table>\n",
              "<p>1122 rows × 1 columns</p>\n",
              "</div>\n",
              "    <div class=\"colab-df-buttons\">\n",
              "\n",
              "  <div class=\"colab-df-container\">\n",
              "    <button class=\"colab-df-convert\" onclick=\"convertToInteractive('df-4e433c10-15b2-4800-b8e9-fc1e1a2073d4')\"\n",
              "            title=\"Convert this dataframe to an interactive table.\"\n",
              "            style=\"display:none;\">\n",
              "\n",
              "  <svg xmlns=\"http://www.w3.org/2000/svg\" height=\"24px\" viewBox=\"0 -960 960 960\">\n",
              "    <path d=\"M120-120v-720h720v720H120Zm60-500h600v-160H180v160Zm220 220h160v-160H400v160Zm0 220h160v-160H400v160ZM180-400h160v-160H180v160Zm440 0h160v-160H620v160ZM180-180h160v-160H180v160Zm440 0h160v-160H620v160Z\"/>\n",
              "  </svg>\n",
              "    </button>\n",
              "\n",
              "  <style>\n",
              "    .colab-df-container {\n",
              "      display:flex;\n",
              "      gap: 12px;\n",
              "    }\n",
              "\n",
              "    .colab-df-convert {\n",
              "      background-color: #E8F0FE;\n",
              "      border: none;\n",
              "      border-radius: 50%;\n",
              "      cursor: pointer;\n",
              "      display: none;\n",
              "      fill: #1967D2;\n",
              "      height: 32px;\n",
              "      padding: 0 0 0 0;\n",
              "      width: 32px;\n",
              "    }\n",
              "\n",
              "    .colab-df-convert:hover {\n",
              "      background-color: #E2EBFA;\n",
              "      box-shadow: 0px 1px 2px rgba(60, 64, 67, 0.3), 0px 1px 3px 1px rgba(60, 64, 67, 0.15);\n",
              "      fill: #174EA6;\n",
              "    }\n",
              "\n",
              "    .colab-df-buttons div {\n",
              "      margin-bottom: 4px;\n",
              "    }\n",
              "\n",
              "    [theme=dark] .colab-df-convert {\n",
              "      background-color: #3B4455;\n",
              "      fill: #D2E3FC;\n",
              "    }\n",
              "\n",
              "    [theme=dark] .colab-df-convert:hover {\n",
              "      background-color: #434B5C;\n",
              "      box-shadow: 0px 1px 3px 1px rgba(0, 0, 0, 0.15);\n",
              "      filter: drop-shadow(0px 1px 2px rgba(0, 0, 0, 0.3));\n",
              "      fill: #FFFFFF;\n",
              "    }\n",
              "  </style>\n",
              "\n",
              "    <script>\n",
              "      const buttonEl =\n",
              "        document.querySelector('#df-4e433c10-15b2-4800-b8e9-fc1e1a2073d4 button.colab-df-convert');\n",
              "      buttonEl.style.display =\n",
              "        google.colab.kernel.accessAllowed ? 'block' : 'none';\n",
              "\n",
              "      async function convertToInteractive(key) {\n",
              "        const element = document.querySelector('#df-4e433c10-15b2-4800-b8e9-fc1e1a2073d4');\n",
              "        const dataTable =\n",
              "          await google.colab.kernel.invokeFunction('convertToInteractive',\n",
              "                                                    [key], {});\n",
              "        if (!dataTable) return;\n",
              "\n",
              "        const docLinkHtml = 'Like what you see? Visit the ' +\n",
              "          '<a target=\"_blank\" href=https://colab.research.google.com/notebooks/data_table.ipynb>data table notebook</a>'\n",
              "          + ' to learn more about interactive tables.';\n",
              "        element.innerHTML = '';\n",
              "        dataTable['output_type'] = 'display_data';\n",
              "        await google.colab.output.renderOutput(dataTable, element);\n",
              "        const docLink = document.createElement('div');\n",
              "        docLink.innerHTML = docLinkHtml;\n",
              "        element.appendChild(docLink);\n",
              "      }\n",
              "    </script>\n",
              "  </div>\n",
              "\n",
              "\n",
              "<div id=\"df-f695e9e0-d096-43bd-a0b7-4992f5a063ec\">\n",
              "  <button class=\"colab-df-quickchart\" onclick=\"quickchart('df-f695e9e0-d096-43bd-a0b7-4992f5a063ec')\"\n",
              "            title=\"Suggest charts\"\n",
              "            style=\"display:none;\">\n",
              "\n",
              "<svg xmlns=\"http://www.w3.org/2000/svg\" height=\"24px\"viewBox=\"0 0 24 24\"\n",
              "     width=\"24px\">\n",
              "    <g>\n",
              "        <path d=\"M19 3H5c-1.1 0-2 .9-2 2v14c0 1.1.9 2 2 2h14c1.1 0 2-.9 2-2V5c0-1.1-.9-2-2-2zM9 17H7v-7h2v7zm4 0h-2V7h2v10zm4 0h-2v-4h2v4z\"/>\n",
              "    </g>\n",
              "</svg>\n",
              "  </button>\n",
              "\n",
              "<style>\n",
              "  .colab-df-quickchart {\n",
              "      --bg-color: #E8F0FE;\n",
              "      --fill-color: #1967D2;\n",
              "      --hover-bg-color: #E2EBFA;\n",
              "      --hover-fill-color: #174EA6;\n",
              "      --disabled-fill-color: #AAA;\n",
              "      --disabled-bg-color: #DDD;\n",
              "  }\n",
              "\n",
              "  [theme=dark] .colab-df-quickchart {\n",
              "      --bg-color: #3B4455;\n",
              "      --fill-color: #D2E3FC;\n",
              "      --hover-bg-color: #434B5C;\n",
              "      --hover-fill-color: #FFFFFF;\n",
              "      --disabled-bg-color: #3B4455;\n",
              "      --disabled-fill-color: #666;\n",
              "  }\n",
              "\n",
              "  .colab-df-quickchart {\n",
              "    background-color: var(--bg-color);\n",
              "    border: none;\n",
              "    border-radius: 50%;\n",
              "    cursor: pointer;\n",
              "    display: none;\n",
              "    fill: var(--fill-color);\n",
              "    height: 32px;\n",
              "    padding: 0;\n",
              "    width: 32px;\n",
              "  }\n",
              "\n",
              "  .colab-df-quickchart:hover {\n",
              "    background-color: var(--hover-bg-color);\n",
              "    box-shadow: 0 1px 2px rgba(60, 64, 67, 0.3), 0 1px 3px 1px rgba(60, 64, 67, 0.15);\n",
              "    fill: var(--button-hover-fill-color);\n",
              "  }\n",
              "\n",
              "  .colab-df-quickchart-complete:disabled,\n",
              "  .colab-df-quickchart-complete:disabled:hover {\n",
              "    background-color: var(--disabled-bg-color);\n",
              "    fill: var(--disabled-fill-color);\n",
              "    box-shadow: none;\n",
              "  }\n",
              "\n",
              "  .colab-df-spinner {\n",
              "    border: 2px solid var(--fill-color);\n",
              "    border-color: transparent;\n",
              "    border-bottom-color: var(--fill-color);\n",
              "    animation:\n",
              "      spin 1s steps(1) infinite;\n",
              "  }\n",
              "\n",
              "  @keyframes spin {\n",
              "    0% {\n",
              "      border-color: transparent;\n",
              "      border-bottom-color: var(--fill-color);\n",
              "      border-left-color: var(--fill-color);\n",
              "    }\n",
              "    20% {\n",
              "      border-color: transparent;\n",
              "      border-left-color: var(--fill-color);\n",
              "      border-top-color: var(--fill-color);\n",
              "    }\n",
              "    30% {\n",
              "      border-color: transparent;\n",
              "      border-left-color: var(--fill-color);\n",
              "      border-top-color: var(--fill-color);\n",
              "      border-right-color: var(--fill-color);\n",
              "    }\n",
              "    40% {\n",
              "      border-color: transparent;\n",
              "      border-right-color: var(--fill-color);\n",
              "      border-top-color: var(--fill-color);\n",
              "    }\n",
              "    60% {\n",
              "      border-color: transparent;\n",
              "      border-right-color: var(--fill-color);\n",
              "    }\n",
              "    80% {\n",
              "      border-color: transparent;\n",
              "      border-right-color: var(--fill-color);\n",
              "      border-bottom-color: var(--fill-color);\n",
              "    }\n",
              "    90% {\n",
              "      border-color: transparent;\n",
              "      border-bottom-color: var(--fill-color);\n",
              "    }\n",
              "  }\n",
              "</style>\n",
              "\n",
              "  <script>\n",
              "    async function quickchart(key) {\n",
              "      const quickchartButtonEl =\n",
              "        document.querySelector('#' + key + ' button');\n",
              "      quickchartButtonEl.disabled = true;  // To prevent multiple clicks.\n",
              "      quickchartButtonEl.classList.add('colab-df-spinner');\n",
              "      try {\n",
              "        const charts = await google.colab.kernel.invokeFunction(\n",
              "            'suggestCharts', [key], {});\n",
              "      } catch (error) {\n",
              "        console.error('Error during call to suggestCharts:', error);\n",
              "      }\n",
              "      quickchartButtonEl.classList.remove('colab-df-spinner');\n",
              "      quickchartButtonEl.classList.add('colab-df-quickchart-complete');\n",
              "    }\n",
              "    (() => {\n",
              "      let quickchartButtonEl =\n",
              "        document.querySelector('#df-f695e9e0-d096-43bd-a0b7-4992f5a063ec button');\n",
              "      quickchartButtonEl.style.display =\n",
              "        google.colab.kernel.accessAllowed ? 'block' : 'none';\n",
              "    })();\n",
              "  </script>\n",
              "</div>\n",
              "    </div>\n",
              "  </div>\n"
            ]
          },
          "metadata": {},
          "execution_count": 198
        }
      ]
    },
    {
      "cell_type": "code",
      "source": [
        "text_len_list.mean()"
      ],
      "metadata": {
        "colab": {
          "base_uri": "https://localhost:8080/"
        },
        "id": "bphL1wElqzMd",
        "outputId": "7433f3c3-5683-43d0-ec00-c73239f5cabb"
      },
      "execution_count": 183,
      "outputs": [
        {
          "output_type": "execute_result",
          "data": {
            "text/plain": [
              "220.39842857142858"
            ]
          },
          "metadata": {},
          "execution_count": 183
        }
      ]
    },
    {
      "cell_type": "code",
      "source": [
        "text_len_list.median()"
      ],
      "metadata": {
        "colab": {
          "base_uri": "https://localhost:8080/"
        },
        "id": "gmOPiVYjq4O-",
        "outputId": "63f8f0e9-b9d0-4a66-8ec9-b8b4c3b54030"
      },
      "execution_count": 184,
      "outputs": [
        {
          "output_type": "execute_result",
          "data": {
            "text/plain": [
              "221.0"
            ]
          },
          "metadata": {},
          "execution_count": 184
        }
      ]
    },
    {
      "cell_type": "code",
      "source": [
        "import numpy as np\n",
        "import matplotlib.pyplot as plt\n",
        "%matplotlib inline"
      ],
      "metadata": {
        "id": "ptINpX30rxwH"
      },
      "execution_count": 185,
      "outputs": []
    },
    {
      "cell_type": "code",
      "source": [
        "y = text_len_list.values"
      ],
      "metadata": {
        "id": "cnxRgIs-rNnn"
      },
      "execution_count": 186,
      "outputs": []
    },
    {
      "cell_type": "code",
      "source": [
        "x = text_len_list.index"
      ],
      "metadata": {
        "id": "rxskkQDgrA35"
      },
      "execution_count": 187,
      "outputs": []
    },
    {
      "cell_type": "code",
      "source": [
        "plt.plot(x,y)\n",
        "plt.show()"
      ],
      "metadata": {
        "colab": {
          "base_uri": "https://localhost:8080/",
          "height": 430
        },
        "id": "nYelD6jrsxbm",
        "outputId": "4547d8eb-292b-41eb-d11b-6f9cc626699c"
      },
      "execution_count": 191,
      "outputs": [
        {
          "output_type": "display_data",
          "data": {
            "text/plain": [
              "<Figure size 640x480 with 1 Axes>"
            ],
            "image/png": "[encoded data removed]"
          },
          "metadata": {}
        }
      ]
    },
    {
      "cell_type": "code",
      "source": [
        "plt.bar(x, y)\n",
        "plt.show()"
      ],
      "metadata": {
        "colab": {
          "base_uri": "https://localhost:8080/",
          "height": 430
        },
        "id": "lXN68HIxrvhN",
        "outputId": "05e27abd-69b6-4aa2-8add-275b4ce19663"
      },
      "execution_count": 190,
      "outputs": [
        {
          "output_type": "display_data",
          "data": {
            "text/plain": [
              "<Figure size 640x480 with 1 Axes>"
            ],
            "image/png": "[encoded data removed]"
          },
          "metadata": {}
        }
      ]
    },
    {
      "cell_type": "code",
      "source": [
        "plt.scatter(x,y)\n",
        "plt.show()"
      ],
      "metadata": {
        "colab": {
          "base_uri": "https://localhost:8080/",
          "height": 430
        },
        "id": "1CtllsjCsk5t",
        "outputId": "a1dac534-8672-4703-89b4-bf8bd80a38d4"
      },
      "execution_count": 192,
      "outputs": [
        {
          "output_type": "display_data",
          "data": {
            "text/plain": [
              "<Figure size 640x480 with 1 Axes>"
            ],
            "image/png": "[encoded data removed]"
          },
          "metadata": {}
        }
      ]
    },
    {
      "cell_type": "code",
      "source": [],
      "metadata": {
        "id": "NnN-BcAmtCm9"
      },
      "execution_count": null,
      "outputs": []
    }
  ]
}