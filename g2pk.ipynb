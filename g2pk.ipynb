{
 "cells": [
  {
   "cell_type": "code",
   "execution_count": 1,
   "metadata": {},
   "outputs": [],
   "source": [
    "from g2pk import G2p\n",
    "g2p = G2p()"
   ]
  },
  {
   "cell_type": "code",
   "execution_count": 2,
   "metadata": {},
   "outputs": [],
   "source": [
    "import pandas as pd\n",
    "import numpy as np"
   ]
  },
  {
   "cell_type": "code",
   "execution_count": 3,
   "metadata": {},
   "outputs": [],
   "source": [
    "np.random.seed(456)"
   ]
  },
  {
   "cell_type": "code",
   "execution_count": 8,
   "metadata": {},
   "outputs": [],
   "source": [
    "train = pd.read_csv('./data/train_error_filtered_by_model.csv', index_col=0)"
   ]
  },
  {
   "cell_type": "code",
   "execution_count": 7,
   "metadata": {},
   "outputs": [
    {
     "data": {
      "text/plain": [
       "0            개포이단지 부냥 압뚜고 개포지구 재건축 뿔부터\n",
       "1            삼성전자 KBIS 이영일팔서 셰프컬렉쎤 선보여\n",
       "2               L지 지육 싸면 보 이어포니 단도 노처눤\n",
       "3               신간 블록체인형명 이영사명·남자의 고독싸\n",
       "4       이스라엘 정보당국 팔레스타이니 노심명 테러 혀믜로 체포\n",
       "5     배구연맹 이영일구 순천 KOVO커 부녕 대행업체 입찰 공고\n",
       "6      콜마비애네이치 장녀 녕어빅 쌈배고시비어권…오사.오퍼센트↑\n",
       "7             소이 릴조이처너권 경유·납싸·항공유 공급꼐약\n",
       "8             카카오·삼성화재 디지털 손해보험사 설립 추진\n",
       "9                긴급삐상대채귀 참서카는 김병준과 나경원\n",
       "10                  포겨 미기는 도심 소 고페라 공연\n",
       "Name: text, dtype: object"
      ]
     },
     "execution_count": 7,
     "metadata": {},
     "output_type": "execute_result"
    }
   ],
   "source": [
    "train.loc[:10].text.apply(g2p)"
   ]
  },
  {
   "cell_type": "code",
   "execution_count": 5,
   "metadata": {},
   "outputs": [],
   "source": [
    "from tqdm import tqdm"
   ]
  },
  {
   "cell_type": "code",
   "execution_count": 21,
   "metadata": {},
   "outputs": [
    {
     "name": "stderr",
     "output_type": "stream",
     "text": [
      "100%|██████████| 979/979 [00:33<00:00, 28.92it/s]\n",
      "100%|██████████| 1006/1006 [00:34<00:00, 29.05it/s]\n",
      "100%|██████████| 983/983 [00:33<00:00, 29.08it/s]\n",
      "100%|██████████| 1010/1010 [00:34<00:00, 29.03it/s]\n",
      "100%|██████████| 1012/1012 [00:35<00:00, 28.90it/s]\n",
      "100%|██████████| 1009/1009 [00:34<00:00, 29.03it/s]\n",
      "100%|██████████| 1001/1001 [00:34<00:00, 29.06it/s]\n"
     ]
    }
   ],
   "source": [
    "results = []\n",
    "for i in range(7):\n",
    "    df = train[train.target==i]\n",
    "    # idxs = np.random.choice(df.index, 200, replace=False)\n",
    "    # df = df.loc[idxs]\n",
    "    for idx in tqdm(df.index):\n",
    "        df.loc[idx,'text'] = g2p(df.loc[idx,'text'])\n",
    "    results.append(df)"
   ]
  },
  {
   "cell_type": "code",
   "execution_count": 22,
   "metadata": {},
   "outputs": [],
   "source": [
    "pd.concat([train] + results).to_csv('./data/train+g2pall.csv', index=False)"
   ]
  }
 ],
 "metadata": {
  "kernelspec": {
   "display_name": "base",
   "language": "python",
   "name": "python3"
  },
  "language_info": {
   "codemirror_mode": {
    "name": "ipython",
    "version": 3
   },
   "file_extension": ".py",
   "mimetype": "text/x-python",
   "name": "python",
   "nbconvert_exporter": "python",
   "pygments_lexer": "ipython3",
   "version": "3.8.5"
  }
 },
 "nbformat": 4,
 "nbformat_minor": 2
}
